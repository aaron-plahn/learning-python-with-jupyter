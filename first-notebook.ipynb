{
 "cells": [
  {
   "cell_type": "markdown",
   "id": "9cffc3a7",
   "metadata": {},
   "source": [
    "# First Notebook\n",
    "\n",
    "<a href=\"https://colab.research.google.com/github/aaron-plahn/learning-python-with-jupyter/blob/main/first-notebook.ipynb\" target=\"_parent\">\n",
    "    <img src=\"https://colab.research.google.com/assets/colab-badge.svg\" alt=\"Open In Colab\"/>\n",
    "</a>"
   ]
  },
  {
   "cell_type": "markdown",
   "id": "198bfe7d",
   "metadata": {},
   "source": [
    "\n",
    "- this is a test\n",
    "- this is only a test"
   ]
  }
 ],
 "metadata": {
  "kernelspec": {
   "display_name": "Python 3",
   "language": "python",
   "name": "python3"
  },
  "language_info": {
   "codemirror_mode": {
    "name": "ipython",
    "version": 3
   },
   "file_extension": ".py",
   "mimetype": "text/x-python",
   "name": "python",
   "nbconvert_exporter": "python",
   "pygments_lexer": "ipython3",
   "version": "3.8.10"
  }
 },
 "nbformat": 4,
 "nbformat_minor": 5
}
